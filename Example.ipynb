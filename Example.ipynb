{
 "cells": [
  {
   "cell_type": "code",
   "execution_count": 1,
   "metadata": {},
   "outputs": [],
   "source": [
    "import pydeck as pdk"
   ]
  },
  {
   "cell_type": "code",
   "execution_count": 2,
   "metadata": {},
   "outputs": [],
   "source": [
    "pdk.settings.custom_libraries = [\n",
    "    {\n",
    "        \"libraryName\": \"LabeledGeoJsonLayerLibrary\",\n",
    "        \"resourceUri\": \"https://cdn.jsdelivr.net/gh/kylebarron/pydeck_custom_layer_notebook_example/dist/rollup-bundle.js\",\n",
    "    }\n",
    "]"
   ]
  },
  {
   "cell_type": "code",
   "execution_count": 3,
   "metadata": {},
   "outputs": [],
   "source": [
    "DATA_URL = \"https://raw.githubusercontent.com/johan/world.geo.json/master/countries.geo.json\"\n",
    "\n",
    "custom_layer = pdk.Layer(\n",
    "    \"LabeledGeoJsonLayer\",\n",
    "    data=DATA_URL,\n",
    "    filled=False,\n",
    "    billboard=False,\n",
    "    get_line_color=[180, 180, 180],\n",
    "    get_label=\"properties.name\",\n",
    "    get_label_size=200000,\n",
    "    get_label_color=[0, 255, 255],\n",
    "    label_size_units='\"meters\"',\n",
    "    line_width_min_pixels=1,\n",
    ")"
   ]
  },
  {
   "cell_type": "code",
   "execution_count": 4,
   "metadata": {},
   "outputs": [],
   "source": [
    "view_state = pdk.ViewState(latitude=0, longitude=0, zoom=1)\n",
    "\n",
    "r = pdk.Deck(custom_layer, initial_view_state=view_state, map_style=\"\",)"
   ]
  },
  {
   "cell_type": "code",
   "execution_count": 5,
   "metadata": {},
   "outputs": [
    {
     "data": {
      "application/vnd.jupyter.widget-view+json": {
       "model_id": "d10d249857a641e8936c072aee4b8333",
       "version_major": 2,
       "version_minor": 0
      },
      "text/plain": [
       "DeckGLWidget(custom_libraries=[{'libraryName': 'LabeledGeoJsonLayerLibrary', 'resourceUri': 'https://cdn.jsdel…"
      ]
     },
     "metadata": {},
     "output_type": "display_data"
    }
   ],
   "source": [
    "r.show()"
   ]
  },
  {
   "cell_type": "code",
   "execution_count": 6,
   "metadata": {},
   "outputs": [
    {
     "data": {
      "text/html": [
       "\n",
       "        <iframe\n",
       "            width=\"700\"\n",
       "            height=\"500\"\n",
       "            src=\"./pydeckgtpr0heb.html\"\n",
       "            frameborder=\"0\"\n",
       "            allowfullscreen\n",
       "        ></iframe>\n",
       "        "
      ],
      "text/plain": [
       "<IPython.lib.display.IFrame at 0x126e7da60>"
      ]
     },
     "metadata": {},
     "output_type": "display_data"
    },
    {
     "data": {
      "text/plain": [
       "'/Users/kyle/unfolded/pydeck_custom_layer_notebook_example/pydeckgtpr0heb.html'"
      ]
     },
     "execution_count": 6,
     "metadata": {},
     "output_type": "execute_result"
    }
   ],
   "source": [
    "r.to_html()"
   ]
  }
 ],
 "metadata": {
  "kernelspec": {
   "display_name": "Python 3",
   "language": "python",
   "name": "python3"
  },
  "language_info": {
   "codemirror_mode": {
    "name": "ipython",
    "version": 3
   },
   "file_extension": ".py",
   "mimetype": "text/x-python",
   "name": "python",
   "nbconvert_exporter": "python",
   "pygments_lexer": "ipython3",
   "version": "3.8.2"
  }
 },
 "nbformat": 4,
 "nbformat_minor": 4
}
